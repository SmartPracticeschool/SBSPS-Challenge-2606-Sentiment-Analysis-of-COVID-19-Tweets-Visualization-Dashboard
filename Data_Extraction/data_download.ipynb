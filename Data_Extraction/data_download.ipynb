{
  "nbformat": 4,
  "nbformat_minor": 0,
  "metadata": {
    "colab": {
      "name": "data_download.ipynb",
      "provenance": [],
      "collapsed_sections": []
    },
    "kernelspec": {
      "name": "python3",
      "display_name": "Python 3"
    }
  },
  "cells": [
    {
      "cell_type": "markdown",
      "metadata": {
        "id": "7O_kjhOqlM1g",
        "colab_type": "text"
      },
      "source": [
        "Downloading Geo data from https://crisisnlp.qcri.org/covid19 and saving it to Google Drive.\n",
        "\n",
        "**Umair Qazi, Muhammad Imran, Ferda Ofli. GeoCoV19: A Dataset of Hundreds of Millions of Multilingual COVID-19 Tweets with Location Information. ACM SIGSPATIAL Special, May 2020. doi: https://doi.org/10.1145/3404111.3404114 (ACM | arXiv | bibtex)**\n",
        "\n",
        "The data consists of only Tweet IDs and the geolocation of tweets as per the Twitter's content redistribution policy and hence the tweet IDs are hydrated in the further steps to obtain the full text of tweets.\n",
        "\n",
        "Geodata Readme: https://crisisnlp.qcri.org/covid_data/geocov19_readme.txt\n",
        "\n",
        "\n",
        "Keywords and Hashtags: https://crisisnlp.qcri.org/covid_data/COVID19_AIDR_Keywords.zip"
      ]
    },
    {
      "cell_type": "code",
      "metadata": {
        "colab_type": "code",
        "id": "vBtANCe0lJsB",
        "colab": {
          "base_uri": "https://localhost:8080/",
          "height": 168
        },
        "outputId": "f11b7e64-5a7b-4300-8b49-27a2a1f2be63"
      },
      "source": [
        "!pip install wget"
      ],
      "execution_count": null,
      "outputs": [
        {
          "output_type": "stream",
          "text": [
            "Collecting wget\n",
            "  Downloading https://files.pythonhosted.org/packages/47/6a/62e288da7bcda82b935ff0c6cfe542970f04e29c756b0e147251b2fb251f/wget-3.2.zip\n",
            "Building wheels for collected packages: wget\n",
            "  Building wheel for wget (setup.py) ... \u001b[?25l\u001b[?25hdone\n",
            "  Created wheel for wget: filename=wget-3.2-cp36-none-any.whl size=9682 sha256=4abfb3c42b71d7e88ae187c1ff31516017490f038e88a1276a29621bd768f90c\n",
            "  Stored in directory: /root/.cache/pip/wheels/40/15/30/7d8f7cea2902b4db79e3fea550d7d7b85ecb27ef992b618f3f\n",
            "Successfully built wget\n",
            "Installing collected packages: wget\n",
            "Successfully installed wget-3.2\n"
          ],
          "name": "stdout"
        }
      ]
    },
    {
      "cell_type": "code",
      "metadata": {
        "id": "MIrz9E8OGfCU",
        "colab_type": "code",
        "colab": {
          "base_uri": "https://localhost:8080/",
          "height": 269
        },
        "outputId": "be74d270-2e3b-40c4-f829-333af5388d93"
      },
      "source": [
        "import os\n",
        "import shutil\n",
        "import wget\n",
        "for i in range(1,16):\n",
        "  if(i<10):\n",
        "    j='0'+f'{i}'\n",
        "  else:\n",
        "    j=f'{i}'\n",
        "  str0='https://crisisnlp.qcri.org/covid_data/geo_2020-04-'+j+'.zip'\n",
        "  print(str0)\n",
        "  wget.download(str0)\n",
        "  str1='geo_2020-04-'+j+'.zip'\n",
        "  shutil.move(str1, '/content/drive/My Drive/IBM_sentiment_analysis/Data/april_json/'+str1)"
      ],
      "execution_count": null,
      "outputs": [
        {
          "output_type": "stream",
          "text": [
            "https://crisisnlp.qcri.org/covid_data/geo_2020-04-01.zip\n",
            "https://crisisnlp.qcri.org/covid_data/geo_2020-04-02.zip\n",
            "https://crisisnlp.qcri.org/covid_data/geo_2020-04-03.zip\n",
            "https://crisisnlp.qcri.org/covid_data/geo_2020-04-04.zip\n",
            "https://crisisnlp.qcri.org/covid_data/geo_2020-04-05.zip\n",
            "https://crisisnlp.qcri.org/covid_data/geo_2020-04-06.zip\n",
            "https://crisisnlp.qcri.org/covid_data/geo_2020-04-07.zip\n",
            "https://crisisnlp.qcri.org/covid_data/geo_2020-04-08.zip\n",
            "https://crisisnlp.qcri.org/covid_data/geo_2020-04-09.zip\n",
            "https://crisisnlp.qcri.org/covid_data/geo_2020-04-10.zip\n",
            "https://crisisnlp.qcri.org/covid_data/geo_2020-04-11.zip\n",
            "https://crisisnlp.qcri.org/covid_data/geo_2020-04-12.zip\n",
            "https://crisisnlp.qcri.org/covid_data/geo_2020-04-13.zip\n",
            "https://crisisnlp.qcri.org/covid_data/geo_2020-04-14.zip\n",
            "https://crisisnlp.qcri.org/covid_data/geo_2020-04-15.zip\n"
          ],
          "name": "stdout"
        }
      ]
    }
  ]
}