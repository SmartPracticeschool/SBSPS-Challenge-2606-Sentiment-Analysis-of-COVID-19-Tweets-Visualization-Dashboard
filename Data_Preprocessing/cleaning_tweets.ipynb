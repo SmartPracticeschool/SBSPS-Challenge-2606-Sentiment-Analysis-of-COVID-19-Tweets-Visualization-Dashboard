{
  "nbformat": 4,
  "nbformat_minor": 0,
  "metadata": {
    "colab": {
      "name": "cleaning_tweets.ipynb",
      "provenance": []
    },
    "kernelspec": {
      "name": "python3",
      "display_name": "Python 3"
    }
  },
  "cells": [
    {
      "cell_type": "code",
      "metadata": {
        "id": "FgMC-1iRK09L",
        "colab_type": "code",
        "colab": {}
      },
      "source": [
        "import pandas as pd\n",
        "import numpy as np\n",
        "import re\n",
        "import bs4"
      ],
      "execution_count": null,
      "outputs": []
    },
    {
      "cell_type": "code",
      "metadata": {
        "id": "_g2bG7FmK_6W",
        "colab_type": "code",
        "colab": {
          "base_uri": "https://localhost:8080/",
          "height": 414
        },
        "outputId": "c4dc2fed-22ab-4278-cbe1-233e14ff231f"
      },
      "source": [
        "df=pd.read_csv('/content/drive/My Drive/IBM_sentiment_analysis/Data/apr.csv')\n",
        "print(df.shape)\n",
        "print(df.isnull().sum())\n",
        "df.head()"
      ],
      "execution_count": null,
      "outputs": [
        {
          "output_type": "stream",
          "text": [
            "(2583888, 6)\n",
            "date              0\n",
            "id                0\n",
            "text              0\n",
            "hashtags         43\n",
            "retweet_count    43\n",
            "location         43\n",
            "dtype: int64\n"
          ],
          "name": "stdout"
        },
        {
          "output_type": "execute_result",
          "data": {
            "text/html": [
              "<div>\n",
              "<style scoped>\n",
              "    .dataframe tbody tr th:only-of-type {\n",
              "        vertical-align: middle;\n",
              "    }\n",
              "\n",
              "    .dataframe tbody tr th {\n",
              "        vertical-align: top;\n",
              "    }\n",
              "\n",
              "    .dataframe thead th {\n",
              "        text-align: right;\n",
              "    }\n",
              "</style>\n",
              "<table border=\"1\" class=\"dataframe\">\n",
              "  <thead>\n",
              "    <tr style=\"text-align: right;\">\n",
              "      <th></th>\n",
              "      <th>date</th>\n",
              "      <th>id</th>\n",
              "      <th>text</th>\n",
              "      <th>hashtags</th>\n",
              "      <th>retweet_count</th>\n",
              "      <th>location</th>\n",
              "    </tr>\n",
              "  </thead>\n",
              "  <tbody>\n",
              "    <tr>\n",
              "      <th>0</th>\n",
              "      <td>2020-04-01</td>\n",
              "      <td>1245325096601833473</td>\n",
              "      <td>@ZyppApp Corona Update in India!\\n\\nTotal Conf...</td>\n",
              "      <td>[]</td>\n",
              "      <td>0.0</td>\n",
              "      <td>{'country_code': 'in'}</td>\n",
              "    </tr>\n",
              "    <tr>\n",
              "      <th>1</th>\n",
              "      <td>2020-04-01</td>\n",
              "      <td>1245336297369198598</td>\n",
              "      <td>📢 Announcement\\nIn view of the current situati...</td>\n",
              "      <td>['COVID19']</td>\n",
              "      <td>93.0</td>\n",
              "      <td>{'country_code': 'in'}</td>\n",
              "    </tr>\n",
              "    <tr>\n",
              "      <th>2</th>\n",
              "      <td>2020-04-01</td>\n",
              "      <td>1245336323407220737</td>\n",
              "      <td>All 110 new #Covid19 cases in Tamil Nadu today...</td>\n",
              "      <td>['Covid19', 'TablighiJamaat']</td>\n",
              "      <td>3793.0</td>\n",
              "      <td>{'country_code': 'in'}</td>\n",
              "    </tr>\n",
              "    <tr>\n",
              "      <th>3</th>\n",
              "      <td>2020-04-01</td>\n",
              "      <td>1245336327979020288</td>\n",
              "      <td>Great gesture. Thank you to IFFCO.  #IndiaFigh...</td>\n",
              "      <td>['IndiaFightsCorona']</td>\n",
              "      <td>3323.0</td>\n",
              "      <td>{'country_code': 'in', 'state': 'Rajasthan', ...</td>\n",
              "    </tr>\n",
              "    <tr>\n",
              "      <th>4</th>\n",
              "      <td>2020-04-01</td>\n",
              "      <td>1245336329409314821</td>\n",
              "      <td>Just In | 110 more cases test positive for #CO...</td>\n",
              "      <td>['COVID19']</td>\n",
              "      <td>89.0</td>\n",
              "      <td>{'country_code': 'in'}</td>\n",
              "    </tr>\n",
              "  </tbody>\n",
              "</table>\n",
              "</div>"
            ],
            "text/plain": [
              "         date  ...                                           location\n",
              "0  2020-04-01  ...                             {'country_code': 'in'}\n",
              "1  2020-04-01  ...                             {'country_code': 'in'}\n",
              "2  2020-04-01  ...                             {'country_code': 'in'}\n",
              "3  2020-04-01  ...   {'country_code': 'in', 'state': 'Rajasthan', ...\n",
              "4  2020-04-01  ...                             {'country_code': 'in'}\n",
              "\n",
              "[5 rows x 6 columns]"
            ]
          },
          "metadata": {
            "tags": []
          },
          "execution_count": 31
        }
      ]
    },
    {
      "cell_type": "code",
      "metadata": {
        "id": "16Jn2Um_LcNa",
        "colab_type": "code",
        "colab": {
          "base_uri": "https://localhost:8080/",
          "height": 84
        },
        "outputId": "022a58d1-6f90-4142-bcf4-685f95e27cf3"
      },
      "source": [
        "import nltk\n",
        "nltk.download('stopwords')\n",
        "nltk.download('punkt')\n",
        "from nltk.corpus import stopwords\n",
        "from nltk.tokenize import word_tokenize\n",
        "\n",
        "stop_words = set(stopwords.words('english'))"
      ],
      "execution_count": null,
      "outputs": [
        {
          "output_type": "stream",
          "text": [
            "[nltk_data] Downloading package stopwords to /root/nltk_data...\n",
            "[nltk_data]   Package stopwords is already up-to-date!\n",
            "[nltk_data] Downloading package punkt to /root/nltk_data...\n",
            "[nltk_data]   Package punkt is already up-to-date!\n"
          ],
          "name": "stdout"
        }
      ]
    },
    {
      "cell_type": "code",
      "metadata": {
        "id": "-js8DvbNLqTm",
        "colab_type": "code",
        "colab": {}
      },
      "source": [
        "alpha=set(['b','c','d','e','f','g','h','j','k','l','m','n','o','p','q','r','s','t','v','w','x','y','z'])"
      ],
      "execution_count": null,
      "outputs": []
    },
    {
      "cell_type": "code",
      "metadata": {
        "id": "GeUzYcitM7zT",
        "colab_type": "code",
        "colab": {
          "base_uri": "https://localhost:8080/",
          "height": 50
        },
        "outputId": "4b00dd57-54f0-4aed-c3de-e3923a73ad3d"
      },
      "source": [
        "print(len(alpha))\n",
        "print(len(stop_words))"
      ],
      "execution_count": null,
      "outputs": [
        {
          "output_type": "stream",
          "text": [
            "23\n",
            "179\n"
          ],
          "name": "stdout"
        }
      ]
    },
    {
      "cell_type": "code",
      "metadata": {
        "id": "B1JzeTF-LlCX",
        "colab_type": "code",
        "colab": {
          "base_uri": "https://localhost:8080/",
          "height": 34
        },
        "outputId": "7800e81b-c43b-4286-95df-502327929038"
      },
      "source": [
        "stop_words_f=stop_words.union(alpha)\n",
        "print(len(stop_words_f))"
      ],
      "execution_count": null,
      "outputs": [
        {
          "output_type": "stream",
          "text": [
            "196\n"
          ],
          "name": "stdout"
        }
      ]
    },
    {
      "cell_type": "code",
      "metadata": {
        "id": "LZBw9OQQNPOq",
        "colab_type": "code",
        "colab": {}
      },
      "source": [
        "def clean_tweet(tweet):\n",
        "  tweet=bs4.BeautifulSoup(tweet,'lxml').get_text()\n",
        "\n",
        "  #removing mentions\n",
        "  tweet=re.sub(r'@[A-Za-z0-9]+',' ',tweet)\n",
        "\n",
        "  #removing URLs\n",
        "  tweet=re.sub(r'https?://[A-Za-z0-9./]+',' ',tweet)\n",
        "\n",
        "  #removing characters other than english alphabets \n",
        "  tweet=re.sub(r\"[^a-zA-Z?!]\",' ',tweet)\n",
        "\n",
        "  #removing extra white spaces\n",
        "  tweet=re.sub(r\" +\",\" \",tweet)\n",
        "\n",
        "  #removing leading and trailing white spaces\n",
        "  tweet=tweet.strip()\n",
        "\n",
        "  #converting text to lowercase\n",
        "  tweet=tweet.lower()\n",
        "\n",
        "  #Tokenizing Tweer\n",
        "  word_tokens = word_tokenize(tweet)\n",
        "\n",
        "  #removing stopwords\n",
        "  filtered_tweet = [w for w in word_tokens if not w in stop_words_f]\n",
        "  return ' '.join(filtered_tweet)"
      ],
      "execution_count": null,
      "outputs": []
    },
    {
      "cell_type": "code",
      "metadata": {
        "id": "rMatQ_TMNZkH",
        "colab_type": "code",
        "colab": {
          "base_uri": "https://localhost:8080/",
          "height": 759
        },
        "outputId": "02e20c1a-c639-4520-f0ff-c2978881bf0e"
      },
      "source": [
        "data_clean=[clean_tweet(tweet) for tweet in df.text]"
      ],
      "execution_count": null,
      "outputs": [
        {
          "output_type": "stream",
          "text": [
            "/usr/local/lib/python3.6/dist-packages/bs4/__init__.py:336: UserWarning: \"https://t.co/LtubIGUOnm\n",
            "True...!!!\" looks like a URL. Beautiful Soup is not an HTTP client. You should probably use an HTTP client like requests to get the document behind the URL, and feed that document to Beautiful Soup.\n",
            "  ' that document to Beautiful Soup.' % decoded_markup\n",
            "/usr/local/lib/python3.6/dist-packages/bs4/__init__.py:336: UserWarning: \"https://t.co/qV7rQDBHHY\n",
            "Confirmed\" looks like a URL. Beautiful Soup is not an HTTP client. You should probably use an HTTP client like requests to get the document behind the URL, and feed that document to Beautiful Soup.\n",
            "  ' that document to Beautiful Soup.' % decoded_markup\n",
            "/usr/local/lib/python3.6/dist-packages/bs4/__init__.py:336: UserWarning: \"https://t.co/C6aFnQt9SA\n",
            "\n",
            "Link\" looks like a URL. Beautiful Soup is not an HTTP client. You should probably use an HTTP client like requests to get the document behind the URL, and feed that document to Beautiful Soup.\n",
            "  ' that document to Beautiful Soup.' % decoded_markup\n",
            "/usr/local/lib/python3.6/dist-packages/bs4/__init__.py:336: UserWarning: \"https://t.co/rklUZ6L1LL\n",
            "\n",
            "Fuck.\" looks like a URL. Beautiful Soup is not an HTTP client. You should probably use an HTTP client like requests to get the document behind the URL, and feed that document to Beautiful Soup.\n",
            "  ' that document to Beautiful Soup.' % decoded_markup\n",
            "/usr/local/lib/python3.6/dist-packages/bs4/__init__.py:336: UserWarning: \"https://t.co/Ee829IWc9a\n",
            "\n",
            "Link\" looks like a URL. Beautiful Soup is not an HTTP client. You should probably use an HTTP client like requests to get the document behind the URL, and feed that document to Beautiful Soup.\n",
            "  ' that document to Beautiful Soup.' % decoded_markup\n",
            "/usr/local/lib/python3.6/dist-packages/bs4/__init__.py:336: UserWarning: \"https://t.co/F8kYJuTdo7\n",
            "\n",
            "fuckkkk\" looks like a URL. Beautiful Soup is not an HTTP client. You should probably use an HTTP client like requests to get the document behind the URL, and feed that document to Beautiful Soup.\n",
            "  ' that document to Beautiful Soup.' % decoded_markup\n",
            "/usr/local/lib/python3.6/dist-packages/bs4/__init__.py:336: UserWarning: \"https://t.co/u7Knjn5mqm\n",
            "#Footwear#Industry#Navigation#Resolution#Branfs#,Retailers#Measures#Goverent#Trade#Stimulus#Experts#Lockdown\" looks like a URL. Beautiful Soup is not an HTTP client. You should probably use an HTTP client like requests to get the document behind the URL, and feed that document to Beautiful Soup.\n",
            "  ' that document to Beautiful Soup.' % decoded_markup\n",
            "/usr/local/lib/python3.6/dist-packages/bs4/__init__.py:336: UserWarning: \"https://t.co/dMl4pBBUhE \n",
            "SHARE\n",
            "https://t.co/dMl4pBBUhE\" looks like a URL. Beautiful Soup is not an HTTP client. You should probably use an HTTP client like requests to get the document behind the URL, and feed that document to Beautiful Soup.\n",
            "  ' that document to Beautiful Soup.' % decoded_markup\n",
            "/usr/local/lib/python3.6/dist-packages/bs4/__init__.py:336: UserWarning: \"https://t.co/GjV8BpADBb\n",
            "Interesting\" looks like a URL. Beautiful Soup is not an HTTP client. You should probably use an HTTP client like requests to get the document behind the URL, and feed that document to Beautiful Soup.\n",
            "  ' that document to Beautiful Soup.' % decoded_markup\n",
            "/usr/local/lib/python3.6/dist-packages/bs4/__init__.py:336: UserWarning: \"https://t.co/6MA7cbh7MA\n",
            "\n",
            "Respect\" looks like a URL. Beautiful Soup is not an HTTP client. You should probably use an HTTP client like requests to get the document behind the URL, and feed that document to Beautiful Soup.\n",
            "  ' that document to Beautiful Soup.' % decoded_markup\n",
            "/usr/local/lib/python3.6/dist-packages/bs4/__init__.py:336: UserWarning: \"https://t.co/oE1f97iJSx\n",
            "\n",
            "#Live#LookFitwithSaranya#Quarantine#StayHome#StaySafe\" looks like a URL. Beautiful Soup is not an HTTP client. You should probably use an HTTP client like requests to get the document behind the URL, and feed that document to Beautiful Soup.\n",
            "  ' that document to Beautiful Soup.' % decoded_markup\n",
            "/usr/local/lib/python3.6/dist-packages/bs4/__init__.py:336: UserWarning: \"https://t.co/afLthFET6t\n",
            "Amazing❤️❤️❤️\" looks like a URL. Beautiful Soup is not an HTTP client. You should probably use an HTTP client like requests to get the document behind the URL, and feed that document to Beautiful Soup.\n",
            "  ' that document to Beautiful Soup.' % decoded_markup\n"
          ],
          "name": "stderr"
        }
      ]
    },
    {
      "cell_type": "code",
      "metadata": {
        "id": "6y3Nz2aYNlZn",
        "colab_type": "code",
        "colab": {
          "base_uri": "https://localhost:8080/",
          "height": 101
        },
        "outputId": "3dd09ecc-a6d1-4889-9075-5229e802dec3"
      },
      "source": [
        "data_clean[:5]"
      ],
      "execution_count": null,
      "outputs": [
        {
          "output_type": "execute_result",
          "data": {
            "text/plain": [
              "['corona update india ! total confirmed active cases total recovered total deaths updated get whatsapp',\n",
              " 'announcement view current situation due covid union hrd minister advised promote students studying classes viii next class grade',\n",
              " 'new covid cases tamil nadu today persons attended tablighijamaat delhi nizamuddin last month',\n",
              " 'great gesture thank iffco indiafightscorona',\n",
              " 'cases test positive covid tamil nadu bringing total count']"
            ]
          },
          "metadata": {
            "tags": []
          },
          "execution_count": 38
        }
      ]
    },
    {
      "cell_type": "code",
      "metadata": {
        "id": "vfdxRsGRNrXK",
        "colab_type": "code",
        "colab": {}
      },
      "source": [
        "df['cleaned']=data_clean"
      ],
      "execution_count": null,
      "outputs": []
    },
    {
      "cell_type": "code",
      "metadata": {
        "id": "qOg6aof3N9jn",
        "colab_type": "code",
        "colab": {
          "base_uri": "https://localhost:8080/",
          "height": 279
        },
        "outputId": "f1219ee0-9fe1-44b9-ff20-1477c84c86ea"
      },
      "source": [
        "df.head()"
      ],
      "execution_count": null,
      "outputs": [
        {
          "output_type": "execute_result",
          "data": {
            "text/html": [
              "<div>\n",
              "<style scoped>\n",
              "    .dataframe tbody tr th:only-of-type {\n",
              "        vertical-align: middle;\n",
              "    }\n",
              "\n",
              "    .dataframe tbody tr th {\n",
              "        vertical-align: top;\n",
              "    }\n",
              "\n",
              "    .dataframe thead th {\n",
              "        text-align: right;\n",
              "    }\n",
              "</style>\n",
              "<table border=\"1\" class=\"dataframe\">\n",
              "  <thead>\n",
              "    <tr style=\"text-align: right;\">\n",
              "      <th></th>\n",
              "      <th>date</th>\n",
              "      <th>id</th>\n",
              "      <th>text</th>\n",
              "      <th>hashtags</th>\n",
              "      <th>retweet_count</th>\n",
              "      <th>location</th>\n",
              "      <th>cleaned</th>\n",
              "    </tr>\n",
              "  </thead>\n",
              "  <tbody>\n",
              "    <tr>\n",
              "      <th>0</th>\n",
              "      <td>2020-04-01</td>\n",
              "      <td>1245325096601833473</td>\n",
              "      <td>@ZyppApp Corona Update in India!\\n\\nTotal Conf...</td>\n",
              "      <td>[]</td>\n",
              "      <td>0.0</td>\n",
              "      <td>{'country_code': 'in'}</td>\n",
              "      <td>corona update india ! total confirmed active c...</td>\n",
              "    </tr>\n",
              "    <tr>\n",
              "      <th>1</th>\n",
              "      <td>2020-04-01</td>\n",
              "      <td>1245336297369198598</td>\n",
              "      <td>📢 Announcement\\nIn view of the current situati...</td>\n",
              "      <td>['COVID19']</td>\n",
              "      <td>93.0</td>\n",
              "      <td>{'country_code': 'in'}</td>\n",
              "      <td>announcement view current situation due covid ...</td>\n",
              "    </tr>\n",
              "    <tr>\n",
              "      <th>2</th>\n",
              "      <td>2020-04-01</td>\n",
              "      <td>1245336323407220737</td>\n",
              "      <td>All 110 new #Covid19 cases in Tamil Nadu today...</td>\n",
              "      <td>['Covid19', 'TablighiJamaat']</td>\n",
              "      <td>3793.0</td>\n",
              "      <td>{'country_code': 'in'}</td>\n",
              "      <td>new covid cases tamil nadu today persons atten...</td>\n",
              "    </tr>\n",
              "    <tr>\n",
              "      <th>3</th>\n",
              "      <td>2020-04-01</td>\n",
              "      <td>1245336327979020288</td>\n",
              "      <td>Great gesture. Thank you to IFFCO.  #IndiaFigh...</td>\n",
              "      <td>['IndiaFightsCorona']</td>\n",
              "      <td>3323.0</td>\n",
              "      <td>{'country_code': 'in', 'state': 'Rajasthan', ...</td>\n",
              "      <td>great gesture thank iffco indiafightscorona</td>\n",
              "    </tr>\n",
              "    <tr>\n",
              "      <th>4</th>\n",
              "      <td>2020-04-01</td>\n",
              "      <td>1245336329409314821</td>\n",
              "      <td>Just In | 110 more cases test positive for #CO...</td>\n",
              "      <td>['COVID19']</td>\n",
              "      <td>89.0</td>\n",
              "      <td>{'country_code': 'in'}</td>\n",
              "      <td>cases test positive covid tamil nadu bringing ...</td>\n",
              "    </tr>\n",
              "  </tbody>\n",
              "</table>\n",
              "</div>"
            ],
            "text/plain": [
              "         date  ...                                            cleaned\n",
              "0  2020-04-01  ...  corona update india ! total confirmed active c...\n",
              "1  2020-04-01  ...  announcement view current situation due covid ...\n",
              "2  2020-04-01  ...  new covid cases tamil nadu today persons atten...\n",
              "3  2020-04-01  ...        great gesture thank iffco indiafightscorona\n",
              "4  2020-04-01  ...  cases test positive covid tamil nadu bringing ...\n",
              "\n",
              "[5 rows x 7 columns]"
            ]
          },
          "metadata": {
            "tags": []
          },
          "execution_count": 40
        }
      ]
    },
    {
      "cell_type": "code",
      "metadata": {
        "id": "pViaw_CrRiS6",
        "colab_type": "code",
        "colab": {
          "base_uri": "https://localhost:8080/",
          "height": 151
        },
        "outputId": "1f4e1fc3-a669-4990-f3d2-cbd6b6532fe7"
      },
      "source": [
        "df.isnull().sum()"
      ],
      "execution_count": null,
      "outputs": [
        {
          "output_type": "execute_result",
          "data": {
            "text/plain": [
              "date              0\n",
              "id                0\n",
              "text              0\n",
              "hashtags         43\n",
              "retweet_count    43\n",
              "location         43\n",
              "cleaned           0\n",
              "dtype: int64"
            ]
          },
          "metadata": {
            "tags": []
          },
          "execution_count": 52
        }
      ]
    },
    {
      "cell_type": "code",
      "metadata": {
        "id": "19ChUDYURwHi",
        "colab_type": "code",
        "colab": {
          "base_uri": "https://localhost:8080/",
          "height": 34
        },
        "outputId": "c2550cf2-1f76-4bef-ff93-11c7f7a1c135"
      },
      "source": [
        "df.shape"
      ],
      "execution_count": null,
      "outputs": [
        {
          "output_type": "execute_result",
          "data": {
            "text/plain": [
              "(2583888, 7)"
            ]
          },
          "metadata": {
            "tags": []
          },
          "execution_count": 46
        }
      ]
    },
    {
      "cell_type": "code",
      "metadata": {
        "id": "t79hWQzoOHex",
        "colab_type": "code",
        "colab": {}
      },
      "source": [
        "import shutil"
      ],
      "execution_count": null,
      "outputs": []
    },
    {
      "cell_type": "code",
      "metadata": {
        "id": "hzWbStFZOAV_",
        "colab_type": "code",
        "colab": {
          "base_uri": "https://localhost:8080/",
          "height": 34
        },
        "outputId": "1310be6b-696c-43cd-8207-d9f1b8273ad1"
      },
      "source": [
        "df.to_csv('apr_cleaned.csv',index=False)\n",
        "shutil.move('apr_cleaned.csv','/content/drive/My Drive/IBM_sentiment_analysis/Data/cleaned/apr_cleaned.csv')\n"
      ],
      "execution_count": null,
      "outputs": [
        {
          "output_type": "execute_result",
          "data": {
            "text/plain": [
              "'/content/drive/My Drive/IBM_sentiment_analysis/Data/cleaned/apr_cleaned.csv'"
            ]
          },
          "metadata": {
            "tags": []
          },
          "execution_count": 49
        }
      ]
    }
  ]
}