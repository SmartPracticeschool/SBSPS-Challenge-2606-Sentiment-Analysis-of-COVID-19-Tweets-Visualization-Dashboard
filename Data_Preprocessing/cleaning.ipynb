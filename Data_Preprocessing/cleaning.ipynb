{
  "nbformat": 4,
  "nbformat_minor": 0,
  "metadata": {
    "kernelspec": {
      "name": "python3",
      "display_name": "Python 3",
      "language": "python"
    },
    "language_info": {
      "name": "python",
      "version": "3.7.6",
      "mimetype": "text/x-python",
      "codemirror_mode": {
        "name": "ipython",
        "version": 3
      },
      "pygments_lexer": "ipython3",
      "nbconvert_exporter": "python",
      "file_extension": ".py"
    },
    "colab": {
      "name": "cleaning.ipynb",
      "provenance": [],
      "collapsed_sections": []
    }
  },
  "cells": [
    {
      "cell_type": "code",
      "metadata": {
        "_uuid": "d629ff2d2480ee46fbb7e2d37f6b5fab8052498a",
        "_cell_guid": "79c7e3d0-c299-4dcb-8224-4455121ee9b0",
        "trusted": true,
        "id": "49DTwIMsKPtM",
        "colab_type": "code",
        "colab": {}
      },
      "source": [
        "import pandas as pd\n",
        "import numpy as np\n",
        "import re\n",
        "import bs4"
      ],
      "execution_count": null,
      "outputs": []
    },
    {
      "cell_type": "code",
      "metadata": {
        "id": "wGLkF7RnKY-R",
        "colab_type": "code",
        "colab": {
          "base_uri": "https://localhost:8080/",
          "height": 121
        },
        "outputId": "b121f262-5d32-42e8-e961-73acae6433e6"
      },
      "source": [
        "from google.colab import drive\n",
        "drive.mount('/content/drive')"
      ],
      "execution_count": null,
      "outputs": [
        {
          "output_type": "stream",
          "text": [
            "Go to this URL in a browser: https://accounts.google.com/o/oauth2/auth?client_id=947318989803-6bn6qk8qdgf4n4g3pfee6491hc0brc4i.apps.googleusercontent.com&redirect_uri=urn%3aietf%3awg%3aoauth%3a2.0%3aoob&response_type=code&scope=email%20https%3a%2f%2fwww.googleapis.com%2fauth%2fdocs.test%20https%3a%2f%2fwww.googleapis.com%2fauth%2fdrive%20https%3a%2f%2fwww.googleapis.com%2fauth%2fdrive.photos.readonly%20https%3a%2f%2fwww.googleapis.com%2fauth%2fpeopleapi.readonly\n",
            "\n",
            "Enter your authorization code:\n",
            "··········\n",
            "Mounted at /content/drive\n"
          ],
          "name": "stdout"
        }
      ]
    },
    {
      "cell_type": "code",
      "metadata": {
        "trusted": true,
        "id": "pQDQTcilKPtQ",
        "colab_type": "code",
        "colab": {
          "base_uri": "https://localhost:8080/",
          "height": 417
        },
        "outputId": "e27d74b9-b09a-4b85-8f65-092d67b184eb"
      },
      "source": [
        "df=pd.read_csv('/content/drive/My Drive/IBM_sentiment_analysis/Data/full.csv')\n",
        "print(df.shape)\n",
        "df.head()"
      ],
      "execution_count": null,
      "outputs": [
        {
          "output_type": "stream",
          "text": [
            "/usr/local/lib/python3.6/dist-packages/IPython/core/interactiveshell.py:2718: DtypeWarning: Columns (1) have mixed types.Specify dtype option on import or set low_memory=False.\n",
            "  interactivity=interactivity, compiler=compiler, result=result)\n"
          ],
          "name": "stderr"
        },
        {
          "output_type": "stream",
          "text": [
            "(15522466, 6)\n"
          ],
          "name": "stdout"
        },
        {
          "output_type": "execute_result",
          "data": {
            "text/html": [
              "<div>\n",
              "<style scoped>\n",
              "    .dataframe tbody tr th:only-of-type {\n",
              "        vertical-align: middle;\n",
              "    }\n",
              "\n",
              "    .dataframe tbody tr th {\n",
              "        vertical-align: top;\n",
              "    }\n",
              "\n",
              "    .dataframe thead th {\n",
              "        text-align: right;\n",
              "    }\n",
              "</style>\n",
              "<table border=\"1\" class=\"dataframe\">\n",
              "  <thead>\n",
              "    <tr style=\"text-align: right;\">\n",
              "      <th></th>\n",
              "      <th>2020-02-01</th>\n",
              "      <th>1223435555595153409</th>\n",
              "      <th>@WHO @scribesoldier The Boeing 747 Jumbo aircraft carrying 324 people, mostly students, who were stranded in China's #coronavirus hit Wuhan, has landed in Delhi.\\n#CoronavirusOutbreak \\nhttps://t.co/gBZvYQG5pP</th>\n",
              "      <th>['coronavirus', 'CoronavirusOutbreak']</th>\n",
              "      <th>0</th>\n",
              "      <th>{'country_code': 'in', 'state': 'Tamil Nadu', 'city': 'Chennai'}</th>\n",
              "    </tr>\n",
              "  </thead>\n",
              "  <tbody>\n",
              "    <tr>\n",
              "      <th>0</th>\n",
              "      <td>2020-02-01</td>\n",
              "      <td>1223435559688790018</td>\n",
              "      <td>Indians evacuated from #coronavirus-hit Wuhan ...</td>\n",
              "      <td>['coronavirus', 'ChinaVirus']</td>\n",
              "      <td>8.0</td>\n",
              "      <td>{'country_code': 'in'}</td>\n",
              "    </tr>\n",
              "    <tr>\n",
              "      <th>1</th>\n",
              "      <td>2020-02-01</td>\n",
              "      <td>1223435561932857345</td>\n",
              "      <td>Coronavirus outbreak: Air India special flight...</td>\n",
              "      <td>[]</td>\n",
              "      <td>14.0</td>\n",
              "      <td>{'country_code': 'in'}</td>\n",
              "    </tr>\n",
              "    <tr>\n",
              "      <th>2</th>\n",
              "      <td>2020-02-01</td>\n",
              "      <td>1223435576017162241</td>\n",
              "      <td>Everytime you abuse @airindiain for its defici...</td>\n",
              "      <td>[]</td>\n",
              "      <td>119.0</td>\n",
              "      <td>{'country_code': 'in'}</td>\n",
              "    </tr>\n",
              "    <tr>\n",
              "      <th>3</th>\n",
              "      <td>2020-02-01</td>\n",
              "      <td>1223435576113631232</td>\n",
              "      <td>Air India special flight to evacuate Indian ci...</td>\n",
              "      <td>[]</td>\n",
              "      <td>3628.0</td>\n",
              "      <td>{'country_code': 'in'}</td>\n",
              "    </tr>\n",
              "    <tr>\n",
              "      <th>4</th>\n",
              "      <td>2020-02-01</td>\n",
              "      <td>1223435576570826755</td>\n",
              "      <td>Rahul Sir, #CoronaVirus was developed by RSS l...</td>\n",
              "      <td>['CoronaVirus']</td>\n",
              "      <td>4.0</td>\n",
              "      <td>{'country_code': 'in'}</td>\n",
              "    </tr>\n",
              "  </tbody>\n",
              "</table>\n",
              "</div>"
            ],
            "text/plain": [
              "   2020-02-01  ...  {'country_code': 'in', 'state': 'Tamil Nadu', 'city': 'Chennai'}\n",
              "0  2020-02-01  ...                             {'country_code': 'in'}               \n",
              "1  2020-02-01  ...                             {'country_code': 'in'}               \n",
              "2  2020-02-01  ...                             {'country_code': 'in'}               \n",
              "3  2020-02-01  ...                             {'country_code': 'in'}               \n",
              "4  2020-02-01  ...                             {'country_code': 'in'}               \n",
              "\n",
              "[5 rows x 6 columns]"
            ]
          },
          "metadata": {
            "tags": []
          },
          "execution_count": 4
        }
      ]
    },
    {
      "cell_type": "code",
      "metadata": {
        "trusted": true,
        "id": "MuHjoReoKPtW",
        "colab_type": "code",
        "colab": {
          "base_uri": "https://localhost:8080/",
          "height": 54
        },
        "outputId": "63071215-d804-4913-ab09-891a53f0b18c"
      },
      "source": [
        "row=list(df.columns)\n",
        "print(row)"
      ],
      "execution_count": null,
      "outputs": [
        {
          "output_type": "stream",
          "text": [
            "['2020-02-01', '1223435555595153409', \"@WHO @scribesoldier The Boeing 747 Jumbo aircraft carrying 324 people, mostly students, who were stranded in China's #coronavirus hit Wuhan, has landed in Delhi.\\n#CoronavirusOutbreak \\nhttps://t.co/gBZvYQG5pP\", \"['coronavirus', 'CoronavirusOutbreak']\", '0', \" {'country_code': 'in', 'state': 'Tamil Nadu', 'city': 'Chennai'}\"]\n"
          ],
          "name": "stdout"
        }
      ]
    },
    {
      "cell_type": "code",
      "metadata": {
        "trusted": true,
        "id": "6QKA6vpwKPta",
        "colab_type": "code",
        "colab": {
          "base_uri": "https://localhost:8080/",
          "height": 380
        },
        "outputId": "b90c1892-7867-4c5b-e6b5-8c5fd8440ea8"
      },
      "source": [
        "df.loc[len(df)]=row\n",
        "print(df.shape)\n",
        "df.tail()"
      ],
      "execution_count": null,
      "outputs": [
        {
          "output_type": "stream",
          "text": [
            "(15522467, 6)\n"
          ],
          "name": "stdout"
        },
        {
          "output_type": "execute_result",
          "data": {
            "text/html": [
              "<div>\n",
              "<style scoped>\n",
              "    .dataframe tbody tr th:only-of-type {\n",
              "        vertical-align: middle;\n",
              "    }\n",
              "\n",
              "    .dataframe tbody tr th {\n",
              "        vertical-align: top;\n",
              "    }\n",
              "\n",
              "    .dataframe thead th {\n",
              "        text-align: right;\n",
              "    }\n",
              "</style>\n",
              "<table border=\"1\" class=\"dataframe\">\n",
              "  <thead>\n",
              "    <tr style=\"text-align: right;\">\n",
              "      <th></th>\n",
              "      <th>2020-02-01</th>\n",
              "      <th>1223435555595153409</th>\n",
              "      <th>@WHO @scribesoldier The Boeing 747 Jumbo aircraft carrying 324 people, mostly students, who were stranded in China's #coronavirus hit Wuhan, has landed in Delhi.\\n#CoronavirusOutbreak \\nhttps://t.co/gBZvYQG5pP</th>\n",
              "      <th>['coronavirus', 'CoronavirusOutbreak']</th>\n",
              "      <th>0</th>\n",
              "      <th>{'country_code': 'in', 'state': 'Tamil Nadu', 'city': 'Chennai'}</th>\n",
              "    </tr>\n",
              "  </thead>\n",
              "  <tbody>\n",
              "    <tr>\n",
              "      <th>15522462</th>\n",
              "      <td>2020-05-01</td>\n",
              "      <td>1256165203852423168</td>\n",
              "      <td>I had written to Dr Manmohan Singh Ji to guide...</td>\n",
              "      <td>['Covid19']</td>\n",
              "      <td>1535</td>\n",
              "      <td>{'country_code': 'in', 'state': 'Delhi'}</td>\n",
              "    </tr>\n",
              "    <tr>\n",
              "      <th>15522463</th>\n",
              "      <td>2020-05-01</td>\n",
              "      <td>1256192531743694849</td>\n",
              "      <td>Underpaid\\nOver worked \\nUnappreciated https:/...</td>\n",
              "      <td>[]</td>\n",
              "      <td>11</td>\n",
              "      <td>{'country_code': 'in', 'state': 'Bihar'}</td>\n",
              "    </tr>\n",
              "    <tr>\n",
              "      <th>15522464</th>\n",
              "      <td>2020-05-01</td>\n",
              "      <td>1256247967373279234</td>\n",
              "      <td>@USCIRF @nadinemaenza More lies and hatred fro...</td>\n",
              "      <td>[]</td>\n",
              "      <td>176</td>\n",
              "      <td>{'country_code': 'in'}</td>\n",
              "    </tr>\n",
              "    <tr>\n",
              "      <th>15522465</th>\n",
              "      <td>2020-05-01</td>\n",
              "      <td>1256069597045768194</td>\n",
              "      <td>#FakeNews is a far deadly #Pandemic in #India ...</td>\n",
              "      <td>['FakeNews', 'Pandemic', 'India', 'FastAndFuri...</td>\n",
              "      <td>1</td>\n",
              "      <td>{'country_code': 'in', 'state': 'Delhi'}</td>\n",
              "    </tr>\n",
              "    <tr>\n",
              "      <th>15522466</th>\n",
              "      <td>2020-02-01</td>\n",
              "      <td>1223435555595153409</td>\n",
              "      <td>@WHO @scribesoldier The Boeing 747 Jumbo aircr...</td>\n",
              "      <td>['coronavirus', 'CoronavirusOutbreak']</td>\n",
              "      <td>0</td>\n",
              "      <td>{'country_code': 'in', 'state': 'Tamil Nadu',...</td>\n",
              "    </tr>\n",
              "  </tbody>\n",
              "</table>\n",
              "</div>"
            ],
            "text/plain": [
              "          2020-02-01  ...  {'country_code': 'in', 'state': 'Tamil Nadu', 'city': 'Chennai'}\n",
              "15522462  2020-05-01  ...           {'country_code': 'in', 'state': 'Delhi'}               \n",
              "15522463  2020-05-01  ...           {'country_code': 'in', 'state': 'Bihar'}               \n",
              "15522464  2020-05-01  ...                             {'country_code': 'in'}               \n",
              "15522465  2020-05-01  ...           {'country_code': 'in', 'state': 'Delhi'}               \n",
              "15522466  2020-02-01  ...   {'country_code': 'in', 'state': 'Tamil Nadu',...               \n",
              "\n",
              "[5 rows x 6 columns]"
            ]
          },
          "metadata": {
            "tags": []
          },
          "execution_count": 6
        }
      ]
    },
    {
      "cell_type": "code",
      "metadata": {
        "trusted": true,
        "id": "0yCe-4v5KPte",
        "colab_type": "code",
        "colab": {
          "base_uri": "https://localhost:8080/",
          "height": 195
        },
        "outputId": "12a80757-53be-44a6-911e-fdef4e58ebb6"
      },
      "source": [
        "df.columns=['date','id','text','hashtags','retweet_count','location']\n",
        "df.head()"
      ],
      "execution_count": null,
      "outputs": [
        {
          "output_type": "execute_result",
          "data": {
            "text/html": [
              "<div>\n",
              "<style scoped>\n",
              "    .dataframe tbody tr th:only-of-type {\n",
              "        vertical-align: middle;\n",
              "    }\n",
              "\n",
              "    .dataframe tbody tr th {\n",
              "        vertical-align: top;\n",
              "    }\n",
              "\n",
              "    .dataframe thead th {\n",
              "        text-align: right;\n",
              "    }\n",
              "</style>\n",
              "<table border=\"1\" class=\"dataframe\">\n",
              "  <thead>\n",
              "    <tr style=\"text-align: right;\">\n",
              "      <th></th>\n",
              "      <th>date</th>\n",
              "      <th>id</th>\n",
              "      <th>text</th>\n",
              "      <th>hashtags</th>\n",
              "      <th>retweet_count</th>\n",
              "      <th>location</th>\n",
              "    </tr>\n",
              "  </thead>\n",
              "  <tbody>\n",
              "    <tr>\n",
              "      <th>0</th>\n",
              "      <td>2020-02-01</td>\n",
              "      <td>1223435559688790018</td>\n",
              "      <td>Indians evacuated from #coronavirus-hit Wuhan ...</td>\n",
              "      <td>['coronavirus', 'ChinaVirus']</td>\n",
              "      <td>8</td>\n",
              "      <td>{'country_code': 'in'}</td>\n",
              "    </tr>\n",
              "    <tr>\n",
              "      <th>1</th>\n",
              "      <td>2020-02-01</td>\n",
              "      <td>1223435561932857345</td>\n",
              "      <td>Coronavirus outbreak: Air India special flight...</td>\n",
              "      <td>[]</td>\n",
              "      <td>14</td>\n",
              "      <td>{'country_code': 'in'}</td>\n",
              "    </tr>\n",
              "    <tr>\n",
              "      <th>2</th>\n",
              "      <td>2020-02-01</td>\n",
              "      <td>1223435576017162241</td>\n",
              "      <td>Everytime you abuse @airindiain for its defici...</td>\n",
              "      <td>[]</td>\n",
              "      <td>119</td>\n",
              "      <td>{'country_code': 'in'}</td>\n",
              "    </tr>\n",
              "    <tr>\n",
              "      <th>3</th>\n",
              "      <td>2020-02-01</td>\n",
              "      <td>1223435576113631232</td>\n",
              "      <td>Air India special flight to evacuate Indian ci...</td>\n",
              "      <td>[]</td>\n",
              "      <td>3628</td>\n",
              "      <td>{'country_code': 'in'}</td>\n",
              "    </tr>\n",
              "    <tr>\n",
              "      <th>4</th>\n",
              "      <td>2020-02-01</td>\n",
              "      <td>1223435576570826755</td>\n",
              "      <td>Rahul Sir, #CoronaVirus was developed by RSS l...</td>\n",
              "      <td>['CoronaVirus']</td>\n",
              "      <td>4</td>\n",
              "      <td>{'country_code': 'in'}</td>\n",
              "    </tr>\n",
              "  </tbody>\n",
              "</table>\n",
              "</div>"
            ],
            "text/plain": [
              "         date                   id  ... retweet_count                 location\n",
              "0  2020-02-01  1223435559688790018  ...             8   {'country_code': 'in'}\n",
              "1  2020-02-01  1223435561932857345  ...            14   {'country_code': 'in'}\n",
              "2  2020-02-01  1223435576017162241  ...           119   {'country_code': 'in'}\n",
              "3  2020-02-01  1223435576113631232  ...          3628   {'country_code': 'in'}\n",
              "4  2020-02-01  1223435576570826755  ...             4   {'country_code': 'in'}\n",
              "\n",
              "[5 rows x 6 columns]"
            ]
          },
          "metadata": {
            "tags": []
          },
          "execution_count": 7
        }
      ]
    },
    {
      "cell_type": "code",
      "metadata": {
        "trusted": true,
        "id": "BwfIm3kEKPth",
        "colab_type": "code",
        "colab": {}
      },
      "source": [
        "df1=df.drop_duplicates(subset=['text'])"
      ],
      "execution_count": null,
      "outputs": []
    },
    {
      "cell_type": "code",
      "metadata": {
        "trusted": true,
        "id": "YM9GmkwQKPtl",
        "colab_type": "code",
        "colab": {}
      },
      "source": [
        "df2=df1.dropna(subset=['text'])"
      ],
      "execution_count": null,
      "outputs": []
    },
    {
      "cell_type": "code",
      "metadata": {
        "trusted": true,
        "id": "rdPBYVVLKPto",
        "colab_type": "code",
        "colab": {
          "base_uri": "https://localhost:8080/",
          "height": 134
        },
        "outputId": "f24ebebd-a744-4d0d-c2e6-2d0fa9bcc164"
      },
      "source": [
        "df2.isnull().sum()"
      ],
      "execution_count": null,
      "outputs": [
        {
          "output_type": "execute_result",
          "data": {
            "text/plain": [
              "date              0\n",
              "id                0\n",
              "text              0\n",
              "hashtags         76\n",
              "retweet_count    94\n",
              "location         94\n",
              "dtype: int64"
            ]
          },
          "metadata": {
            "tags": []
          },
          "execution_count": 10
        }
      ]
    },
    {
      "cell_type": "code",
      "metadata": {
        "trusted": true,
        "id": "K8oN2hyqKPtr",
        "colab_type": "code",
        "colab": {
          "base_uri": "https://localhost:8080/",
          "height": 84
        },
        "outputId": "b20b1a4d-8654-42fb-f624-d4e18a629e88"
      },
      "source": [
        "import nltk\n",
        "nltk.download('stopwords')\n",
        "nltk.download('punkt')\n",
        "from nltk.corpus import stopwords\n",
        "from nltk.tokenize import word_tokenize\n",
        "def clean_tweet(tweet):\n",
        "  tweet=bs4.BeautifulSoup(tweet,'lxml').get_text()\n",
        "\n",
        "  #removing mentions\n",
        "  tweet=re.sub(r'@[A-Za-z0-9]+',' ',tweet)\n",
        "\n",
        "  #removing URLs\n",
        "  tweet=re.sub(r'https?://[A-Za-z0-9./]+',' ',tweet)\n",
        "\n",
        "  #removing characters other than english alphabets \n",
        "  tweet=re.sub(r\"[^a-zA-Z?.!']\",' ',tweet)\n",
        "\n",
        "  #removing extra white spaces\n",
        "  tweet=re.sub(r\" +\",\" \",tweet)\n",
        "\n",
        "  #removing leading and trailing white spaces\n",
        "  tweet=tweet.strip()\n",
        "\n",
        "  #converting text to lowercase\n",
        "  tweet=tweet.lower()\n",
        "\n",
        "  #getting set of stopwords in English\n",
        "  stop_words = set(stopwords.words('english'))\n",
        "\n",
        "  #Tokenizing Tweer\n",
        "  word_tokens = word_tokenize(tweet)\n",
        "\n",
        "  #removing stopwords\n",
        "  filtered_tweet = [w for w in word_tokens if not w in stop_words]\n",
        "  return ' '.join(filtered_tweet)"
      ],
      "execution_count": null,
      "outputs": [
        {
          "output_type": "stream",
          "text": [
            "[nltk_data] Downloading package stopwords to /root/nltk_data...\n",
            "[nltk_data]   Package stopwords is already up-to-date!\n",
            "[nltk_data] Downloading package punkt to /root/nltk_data...\n",
            "[nltk_data]   Package punkt is already up-to-date!\n"
          ],
          "name": "stdout"
        }
      ]
    },
    {
      "cell_type": "code",
      "metadata": {
        "trusted": true,
        "id": "Nd74n_gkKPtw",
        "colab_type": "code",
        "colab": {}
      },
      "source": [
        "data_clean=[clean_tweet(tweet) for tweet in df2.text]"
      ],
      "execution_count": null,
      "outputs": []
    },
    {
      "cell_type": "code",
      "metadata": {
        "trusted": true,
        "id": "But6uayYKPty",
        "colab_type": "code",
        "colab": {
          "base_uri": "https://localhost:8080/",
          "height": 121
        },
        "outputId": "b6781ee3-696b-4179-f307-049c35c0e374"
      },
      "source": [
        "data_clean[:5]"
      ],
      "execution_count": null,
      "outputs": [
        {
          "output_type": "execute_result",
          "data": {
            "text/plain": [
              "['indians evacuated coronavirus hit wuhan screened delhi airport team doctors . suspected infection shifted isolation ward base hospital delhi cantonment bhdc . chinavirus',\n",
              " 'coronavirus outbreak air india special flight carrying indians wuhan lands delhi',\n",
              " 'everytime abuse deficient services think yes times crises air india rises occasion ... .. gulf war yemen wuhan ai deliver mattered !',\n",
              " \"air india special flight evacuate indian citizens china 's wuhan today . wuhan epicentre coronavirus . salute pilots crew members doctors paramedical staff board carrying operation . pray indian citizens .\",\n",
              " \"rahul sir coronavirus developed rss laboratory nagpur formula invented godse savarkar back 's . sent china instructions modi shah . right way tweet sir\"]"
            ]
          },
          "metadata": {
            "tags": []
          },
          "execution_count": 23
        }
      ]
    },
    {
      "cell_type": "code",
      "metadata": {
        "trusted": true,
        "id": "nQZRurrkKPt6",
        "colab_type": "code",
        "colab": {}
      },
      "source": [
        "dff=pd.DataFrame()"
      ],
      "execution_count": null,
      "outputs": []
    },
    {
      "cell_type": "code",
      "metadata": {
        "trusted": true,
        "id": "Ydr5XrcqKPt8",
        "colab_type": "code",
        "colab": {}
      },
      "source": [
        "dff['id']=df2['id']"
      ],
      "execution_count": null,
      "outputs": []
    },
    {
      "cell_type": "code",
      "metadata": {
        "trusted": true,
        "id": "zqQ6neIIKPt-",
        "colab_type": "code",
        "colab": {
          "base_uri": "https://localhost:8080/",
          "height": 34
        },
        "outputId": "a9cb17e7-a97c-4bde-aaa9-0cebf6ccaee3"
      },
      "source": [
        "dff.shape"
      ],
      "execution_count": null,
      "outputs": [
        {
          "output_type": "execute_result",
          "data": {
            "text/plain": [
              "(4268021, 1)"
            ]
          },
          "metadata": {
            "tags": []
          },
          "execution_count": 26
        }
      ]
    },
    {
      "cell_type": "code",
      "metadata": {
        "trusted": true,
        "id": "4Y9AdzvFKPuA",
        "colab_type": "code",
        "colab": {
          "base_uri": "https://localhost:8080/",
          "height": 34
        },
        "outputId": "7d7ef7f7-d7ec-402f-a7fe-4cde518a4816"
      },
      "source": [
        "df2.shape"
      ],
      "execution_count": null,
      "outputs": [
        {
          "output_type": "execute_result",
          "data": {
            "text/plain": [
              "(4268021, 6)"
            ]
          },
          "metadata": {
            "tags": []
          },
          "execution_count": 27
        }
      ]
    },
    {
      "cell_type": "code",
      "metadata": {
        "trusted": true,
        "id": "nItKF8McKPuC",
        "colab_type": "code",
        "colab": {}
      },
      "source": [
        "dff['cleaned']=data_clean"
      ],
      "execution_count": null,
      "outputs": []
    },
    {
      "cell_type": "code",
      "metadata": {
        "trusted": true,
        "id": "rEUOMmyvKPuE",
        "colab_type": "code",
        "colab": {
          "base_uri": "https://localhost:8080/",
          "height": 195
        },
        "outputId": "f37755af-5ed6-4846-9fa6-9f9eb427ed9f"
      },
      "source": [
        "dff.head()"
      ],
      "execution_count": null,
      "outputs": [
        {
          "output_type": "execute_result",
          "data": {
            "text/html": [
              "<div>\n",
              "<style scoped>\n",
              "    .dataframe tbody tr th:only-of-type {\n",
              "        vertical-align: middle;\n",
              "    }\n",
              "\n",
              "    .dataframe tbody tr th {\n",
              "        vertical-align: top;\n",
              "    }\n",
              "\n",
              "    .dataframe thead th {\n",
              "        text-align: right;\n",
              "    }\n",
              "</style>\n",
              "<table border=\"1\" class=\"dataframe\">\n",
              "  <thead>\n",
              "    <tr style=\"text-align: right;\">\n",
              "      <th></th>\n",
              "      <th>id</th>\n",
              "      <th>cleaned</th>\n",
              "    </tr>\n",
              "  </thead>\n",
              "  <tbody>\n",
              "    <tr>\n",
              "      <th>0</th>\n",
              "      <td>1223435559688790018</td>\n",
              "      <td>indians evacuated coronavirus hit wuhan screen...</td>\n",
              "    </tr>\n",
              "    <tr>\n",
              "      <th>1</th>\n",
              "      <td>1223435561932857345</td>\n",
              "      <td>coronavirus outbreak air india special flight ...</td>\n",
              "    </tr>\n",
              "    <tr>\n",
              "      <th>2</th>\n",
              "      <td>1223435576017162241</td>\n",
              "      <td>everytime abuse deficient services think yes t...</td>\n",
              "    </tr>\n",
              "    <tr>\n",
              "      <th>3</th>\n",
              "      <td>1223435576113631232</td>\n",
              "      <td>air india special flight evacuate indian citiz...</td>\n",
              "    </tr>\n",
              "    <tr>\n",
              "      <th>4</th>\n",
              "      <td>1223435576570826755</td>\n",
              "      <td>rahul sir coronavirus developed rss laboratory...</td>\n",
              "    </tr>\n",
              "  </tbody>\n",
              "</table>\n",
              "</div>"
            ],
            "text/plain": [
              "                    id                                            cleaned\n",
              "0  1223435559688790018  indians evacuated coronavirus hit wuhan screen...\n",
              "1  1223435561932857345  coronavirus outbreak air india special flight ...\n",
              "2  1223435576017162241  everytime abuse deficient services think yes t...\n",
              "3  1223435576113631232  air india special flight evacuate indian citiz...\n",
              "4  1223435576570826755  rahul sir coronavirus developed rss laboratory..."
            ]
          },
          "metadata": {
            "tags": []
          },
          "execution_count": 29
        }
      ]
    },
    {
      "cell_type": "code",
      "metadata": {
        "trusted": true,
        "id": "yPdOa3vrKPuH",
        "colab_type": "code",
        "colab": {}
      },
      "source": [
        "dff.to_csv('cleaned_tweets.csv',index=False)"
      ],
      "execution_count": null,
      "outputs": []
    },
    {
      "cell_type": "code",
      "metadata": {
        "id": "IIz7V81eNJZN",
        "colab_type": "code",
        "colab": {
          "base_uri": "https://localhost:8080/",
          "height": 34
        },
        "outputId": "fa714e85-7cb8-44e7-b712-e5836436f3b3"
      },
      "source": [
        "#saving cleaned dataset to Google Drive\n",
        "import shutil\n",
        "shutil.move('cleaned_tweets.csv','/content/drive/My Drive/IBM_sentiment_analysis/Data/cleaned_tweets.csv')"
      ],
      "execution_count": null,
      "outputs": [
        {
          "output_type": "execute_result",
          "data": {
            "text/plain": [
              "'/content/drive/My Drive/IBM_sentiment_analysis/Data/cleaned_tweets.csv'"
            ]
          },
          "metadata": {
            "tags": []
          },
          "execution_count": 31
        }
      ]
    }
  ]
}