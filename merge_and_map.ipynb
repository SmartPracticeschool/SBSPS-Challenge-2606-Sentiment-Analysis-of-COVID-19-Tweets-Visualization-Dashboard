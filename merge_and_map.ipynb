{
  "nbformat": 4,
  "nbformat_minor": 0,
  "metadata": {
    "colab": {
      "name": "merge_and_map.ipynb",
      "provenance": [],
      "collapsed_sections": []
    },
    "kernelspec": {
      "name": "python3",
      "display_name": "Python 3"
    }
  },
  "cells": [
    {
      "cell_type": "code",
      "metadata": {
        "id": "XxCeAegavw1X",
        "colab_type": "code",
        "colab": {}
      },
      "source": [
        "import glob\n",
        "import csv\n",
        "import pandas as pd\n",
        "import shutil\n",
        "import os"
      ],
      "execution_count": null,
      "outputs": []
    },
    {
      "cell_type": "code",
      "metadata": {
        "id": "JQ26l03rv2u7",
        "colab_type": "code",
        "colab": {}
      },
      "source": [
        "feb=glob.glob(\"/content/drive/My Drive/IBM_sentiment_analysis/Data/feb_hydrated/*.csv\")\n",
        "march = glob.glob(\"/content/drive/My Drive/IBM_sentiment_analysis/Data/march_hydrated/*.csv\")\n",
        "april = glob.glob(\"/content/drive/My Drive/IBM_sentiment_analysis/Data/april_hydrated/*.csv\")"
      ],
      "execution_count": null,
      "outputs": []
    },
    {
      "cell_type": "code",
      "metadata": {
        "id": "Moo49blawFKn",
        "colab_type": "code",
        "colab": {
          "base_uri": "https://localhost:8080/",
          "height": 34
        },
        "outputId": "1c561fcb-4b33-4db4-e1e4-b9bb17c20f49"
      },
      "source": [
        "files=feb+march+april\n",
        "print(len(files))\n",
        "#files consist of list of all hydrated files"
      ],
      "execution_count": null,
      "outputs": [
        {
          "output_type": "stream",
          "text": [
            "181\n"
          ],
          "name": "stdout"
        }
      ]
    },
    {
      "cell_type": "code",
      "metadata": {
        "id": "skSocmQ0ytA9",
        "colab_type": "code",
        "colab": {}
      },
      "source": [
        "#This function extracts the hastags from the hastags string \n",
        "def text(x):\n",
        "  f=[]\n",
        "  x=eval(x)\n",
        "  for i in x:\n",
        "    f.append(i['text'])\n",
        "  return f"
      ],
      "execution_count": null,
      "outputs": []
    },
    {
      "cell_type": "code",
      "metadata": {
        "id": "byTW34tgxshL",
        "colab_type": "code",
        "colab": {
          "base_uri": "https://localhost:8080/",
          "height": 490
        },
        "outputId": "5fb37a2f-4eda-4485-a1f8-3280738712cc"
      },
      "source": [
        "sum=0\n",
        "for f in files:\n",
        "  df=pd.read_csv(f,header=None)\n",
        "  df1=df.iloc[:,[0,2,3,4,9,10]]\n",
        "\n",
        "  # converting Created_at twitter value to python datetime format and extracts only date to date column\n",
        "  df1['date']=pd.to_datetime(df1[0]).dt.date\n",
        "  df2=df1.iloc[:,[6,1,2,3,4,5]]\n",
        "  df2.columns=['date','id','text','hashtags','retweet_count','language']\n",
        "\n",
        "  #checking for duplicate IDs\n",
        "  df3=df2.drop_duplicates(subset='id', keep=\"first\")\n",
        "  df4=df3[df3['language']=='en']\n",
        "\n",
        "  #getting hashtags from hastag string\n",
        "  df4['hashtags']=df4['hashtags'].apply(text)\n",
        "  df5=df4.iloc[:,[0,1,2,3,4]]\n",
        "\n",
        "  #Loading geodata files\n",
        "  geo=pd.read_csv('/content/drive/My Drive/IBM_sentiment_analysis/Data/text_files/geo_'+str(df5.iloc[0][0])+'.txt',delimiter='__',header=None)\n",
        "  geo['f']=geo[0].str.replace(',','//',n=1)\n",
        "  geo[['id','location']]=geo['f'].str.split(\"//\",expand=True)\n",
        "  geo1=geo.iloc[:,[2,3]]\n",
        "  geo1['id']=geo1['id'].astype('str')\n",
        "  df5['id']=df5['id'].astype('str')\n",
        "  geo2=geo1.reset_index(drop=True)\n",
        "  df6=df5.reset_index(drop=True)\n",
        "  df6['id'] = df6['id'].apply(lambda x: x.strip())\n",
        "  geo2['id'] = geo2['id'].apply(lambda x: x.strip())\n",
        "\n",
        "  #Merging the tweets to their geodata\n",
        "  dff=pd.merge(df6,geo2,on=['id'],how='left')\n",
        "\n",
        "  #Saving single tweets file \n",
        "  dff.to_csv('full.csv',mode='a',header=None,index=False)\n",
        "  sum=sum+dff.shape[0]\n",
        "  "
      ],
      "execution_count": null,
      "outputs": [
        {
          "output_type": "stream",
          "text": [
            "/usr/local/lib/python3.6/dist-packages/ipykernel_launcher.py:5: SettingWithCopyWarning: \n",
            "A value is trying to be set on a copy of a slice from a DataFrame.\n",
            "Try using .loc[row_indexer,col_indexer] = value instead\n",
            "\n",
            "See the caveats in the documentation: https://pandas.pydata.org/pandas-docs/stable/user_guide/indexing.html#returning-a-view-versus-a-copy\n",
            "  \"\"\"\n",
            "/usr/local/lib/python3.6/dist-packages/ipykernel_launcher.py:12: ParserWarning: Falling back to the 'python' engine because the 'c' engine does not support regex separators (separators > 1 char and different from '\\s+' are interpreted as regex); you can avoid this warning by specifying engine='python'.\n",
            "  if sys.path[0] == '':\n",
            "/usr/local/lib/python3.6/dist-packages/ipykernel_launcher.py:16: SettingWithCopyWarning: \n",
            "A value is trying to be set on a copy of a slice from a DataFrame.\n",
            "Try using .loc[row_indexer,col_indexer] = value instead\n",
            "\n",
            "See the caveats in the documentation: https://pandas.pydata.org/pandas-docs/stable/user_guide/indexing.html#returning-a-view-versus-a-copy\n",
            "  app.launch_new_instance()\n",
            "/usr/local/lib/python3.6/dist-packages/ipykernel_launcher.py:17: SettingWithCopyWarning: \n",
            "A value is trying to be set on a copy of a slice from a DataFrame.\n",
            "Try using .loc[row_indexer,col_indexer] = value instead\n",
            "\n",
            "See the caveats in the documentation: https://pandas.pydata.org/pandas-docs/stable/user_guide/indexing.html#returning-a-view-versus-a-copy\n",
            "/usr/local/lib/python3.6/dist-packages/IPython/core/interactiveshell.py:2718: DtypeWarning: Columns (6,7) have mixed types.Specify dtype option on import or set low_memory=False.\n",
            "  interactivity=interactivity, compiler=compiler, result=result)\n",
            "/usr/local/lib/python3.6/dist-packages/ipykernel_launcher.py:10: SettingWithCopyWarning: \n",
            "A value is trying to be set on a copy of a slice from a DataFrame.\n",
            "Try using .loc[row_indexer,col_indexer] = value instead\n",
            "\n",
            "See the caveats in the documentation: https://pandas.pydata.org/pandas-docs/stable/user_guide/indexing.html#returning-a-view-versus-a-copy\n",
            "  # Remove the CWD from sys.path while we load stuff.\n"
          ],
          "name": "stderr"
        }
      ]
    },
    {
      "cell_type": "code",
      "metadata": {
        "id": "tK6Qrgax3JUr",
        "colab_type": "code",
        "colab": {
          "base_uri": "https://localhost:8080/",
          "height": 34
        },
        "outputId": "ec668372-73b7-4620-eb15-ab66b385c694"
      },
      "source": [
        "print(sum)"
      ],
      "execution_count": null,
      "outputs": [
        {
          "output_type": "stream",
          "text": [
            "14878803\n"
          ],
          "name": "stdout"
        }
      ]
    },
    {
      "cell_type": "code",
      "metadata": {
        "id": "2K-pY0Ej22IO",
        "colab_type": "code",
        "colab": {
          "base_uri": "https://localhost:8080/",
          "height": 34
        },
        "outputId": "410c3111-dc87-4168-86f6-d5f868a5c174"
      },
      "source": [
        "#moving file to google drive\n",
        "shutil.move('full.csv','/content/drive/My Drive/IBM_sentiment_analysis/Data/full.csv')"
      ],
      "execution_count": null,
      "outputs": [
        {
          "output_type": "execute_result",
          "data": {
            "text/plain": [
              "'/content/drive/My Drive/IBM_sentiment_analysis/Data/full.csv'"
            ]
          },
          "metadata": {
            "tags": []
          },
          "execution_count": 41
        }
      ]
    }
  ]
}